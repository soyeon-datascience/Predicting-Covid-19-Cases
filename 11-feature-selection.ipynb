{
 "cells": [
  {
   "cell_type": "markdown",
   "metadata": {},
   "source": [
    "# Import data"
   ]
  },
  {
   "cell_type": "code",
   "execution_count": 1,
   "metadata": {},
   "outputs": [],
   "source": [
    "import pandas as pd\n",
    "import numpy as np\n",
    "import os.path\n",
    "import regex"
   ]
  },
  {
   "cell_type": "code",
   "execution_count": 2,
   "metadata": {},
   "outputs": [],
   "source": [
    "# Change to your directory\n",
    "base_prefix = os.path.expanduser('~/Vanderbilt University/2021 Fall/DS5360_case1_team3/')\n",
    "data_dir = base_prefix + '00-raw-data/'"
   ]
  },
  {
   "cell_type": "code",
   "execution_count": 3,
   "metadata": {},
   "outputs": [],
   "source": [
    "# The file doesn't actually contain UTF-8 encoded data, so encoding should be ISO-8859-1\n",
    "data = pd.read_csv(data_dir + \"clean_dataset.csv\", encoding = \"ISO-8859-1\")\n",
    "\n",
    "# Drop an unnecessary column \"Unnamed: 0\"\n",
    "data = data.drop(['Unnamed: 0'], axis=1)"
   ]
  },
  {
   "cell_type": "code",
   "execution_count": 4,
   "metadata": {},
   "outputs": [
    {
     "data": {
      "text/html": [
       "<div>\n",
       "<style scoped>\n",
       "    .dataframe tbody tr th:only-of-type {\n",
       "        vertical-align: middle;\n",
       "    }\n",
       "\n",
       "    .dataframe tbody tr th {\n",
       "        vertical-align: top;\n",
       "    }\n",
       "\n",
       "    .dataframe thead th {\n",
       "        text-align: right;\n",
       "    }\n",
       "</style>\n",
       "<table border=\"1\" class=\"dataframe\">\n",
       "  <thead>\n",
       "    <tr style=\"text-align: right;\">\n",
       "      <th></th>\n",
       "      <th>patient_id</th>\n",
       "      <th>patient_age_quantile</th>\n",
       "      <th>sars_cov_2_exam_result</th>\n",
       "      <th>patient_addmited_to_regular_ward_1_yes_0_no</th>\n",
       "      <th>patient_addmited_to_semi_intensive_unit_1_yes_0_no</th>\n",
       "      <th>patient_addmited_to_intensive_care_unit_1_yes_0_no</th>\n",
       "      <th>hematocrit</th>\n",
       "      <th>hemoglobin</th>\n",
       "      <th>platelets</th>\n",
       "      <th>mean_platelet_volume</th>\n",
       "      <th>...</th>\n",
       "      <th>hb_saturation_arterial_blood_gases</th>\n",
       "      <th>p_co2_arterial_blood_gas_analysis</th>\n",
       "      <th>base_excess_arterial_blood_gas_analysis</th>\n",
       "      <th>p_h_arterial_blood_gas_analysis</th>\n",
       "      <th>total_co2_arterial_blood_gas_analysis</th>\n",
       "      <th>hco3_arterial_blood_gas_analysis</th>\n",
       "      <th>p_o2_arterial_blood_gas_analysis</th>\n",
       "      <th>arteiral_fio2</th>\n",
       "      <th>phosphor</th>\n",
       "      <th>ct_o2_arterial_blood_gas_analysis</th>\n",
       "    </tr>\n",
       "  </thead>\n",
       "  <tbody>\n",
       "    <tr>\n",
       "      <th>0</th>\n",
       "      <td>44477f75e8169d2</td>\n",
       "      <td>13</td>\n",
       "      <td>0</td>\n",
       "      <td>0</td>\n",
       "      <td>0</td>\n",
       "      <td>0</td>\n",
       "      <td>NaN</td>\n",
       "      <td>NaN</td>\n",
       "      <td>NaN</td>\n",
       "      <td>NaN</td>\n",
       "      <td>...</td>\n",
       "      <td>NaN</td>\n",
       "      <td>NaN</td>\n",
       "      <td>NaN</td>\n",
       "      <td>NaN</td>\n",
       "      <td>NaN</td>\n",
       "      <td>NaN</td>\n",
       "      <td>NaN</td>\n",
       "      <td>NaN</td>\n",
       "      <td>NaN</td>\n",
       "      <td>NaN</td>\n",
       "    </tr>\n",
       "    <tr>\n",
       "      <th>1</th>\n",
       "      <td>126e9dd13932f68</td>\n",
       "      <td>17</td>\n",
       "      <td>0</td>\n",
       "      <td>0</td>\n",
       "      <td>0</td>\n",
       "      <td>0</td>\n",
       "      <td>0.236515</td>\n",
       "      <td>-0.02234</td>\n",
       "      <td>-0.517413</td>\n",
       "      <td>0.010677</td>\n",
       "      <td>...</td>\n",
       "      <td>NaN</td>\n",
       "      <td>NaN</td>\n",
       "      <td>NaN</td>\n",
       "      <td>NaN</td>\n",
       "      <td>NaN</td>\n",
       "      <td>NaN</td>\n",
       "      <td>NaN</td>\n",
       "      <td>NaN</td>\n",
       "      <td>NaN</td>\n",
       "      <td>NaN</td>\n",
       "    </tr>\n",
       "    <tr>\n",
       "      <th>2</th>\n",
       "      <td>a46b4402a0e5696</td>\n",
       "      <td>8</td>\n",
       "      <td>0</td>\n",
       "      <td>0</td>\n",
       "      <td>0</td>\n",
       "      <td>0</td>\n",
       "      <td>NaN</td>\n",
       "      <td>NaN</td>\n",
       "      <td>NaN</td>\n",
       "      <td>NaN</td>\n",
       "      <td>...</td>\n",
       "      <td>NaN</td>\n",
       "      <td>NaN</td>\n",
       "      <td>NaN</td>\n",
       "      <td>NaN</td>\n",
       "      <td>NaN</td>\n",
       "      <td>NaN</td>\n",
       "      <td>NaN</td>\n",
       "      <td>NaN</td>\n",
       "      <td>NaN</td>\n",
       "      <td>NaN</td>\n",
       "    </tr>\n",
       "    <tr>\n",
       "      <th>3</th>\n",
       "      <td>f7d619a94f97c45</td>\n",
       "      <td>5</td>\n",
       "      <td>0</td>\n",
       "      <td>0</td>\n",
       "      <td>0</td>\n",
       "      <td>0</td>\n",
       "      <td>NaN</td>\n",
       "      <td>NaN</td>\n",
       "      <td>NaN</td>\n",
       "      <td>NaN</td>\n",
       "      <td>...</td>\n",
       "      <td>NaN</td>\n",
       "      <td>NaN</td>\n",
       "      <td>NaN</td>\n",
       "      <td>NaN</td>\n",
       "      <td>NaN</td>\n",
       "      <td>NaN</td>\n",
       "      <td>NaN</td>\n",
       "      <td>NaN</td>\n",
       "      <td>NaN</td>\n",
       "      <td>NaN</td>\n",
       "    </tr>\n",
       "    <tr>\n",
       "      <th>4</th>\n",
       "      <td>d9e41465789c2b5</td>\n",
       "      <td>15</td>\n",
       "      <td>0</td>\n",
       "      <td>0</td>\n",
       "      <td>0</td>\n",
       "      <td>0</td>\n",
       "      <td>NaN</td>\n",
       "      <td>NaN</td>\n",
       "      <td>NaN</td>\n",
       "      <td>NaN</td>\n",
       "      <td>...</td>\n",
       "      <td>NaN</td>\n",
       "      <td>NaN</td>\n",
       "      <td>NaN</td>\n",
       "      <td>NaN</td>\n",
       "      <td>NaN</td>\n",
       "      <td>NaN</td>\n",
       "      <td>NaN</td>\n",
       "      <td>NaN</td>\n",
       "      <td>NaN</td>\n",
       "      <td>NaN</td>\n",
       "    </tr>\n",
       "  </tbody>\n",
       "</table>\n",
       "<p>5 rows × 111 columns</p>\n",
       "</div>"
      ],
      "text/plain": [
       "        patient_id  patient_age_quantile  sars_cov_2_exam_result  \\\n",
       "0  44477f75e8169d2                    13                       0   \n",
       "1  126e9dd13932f68                    17                       0   \n",
       "2  a46b4402a0e5696                     8                       0   \n",
       "3  f7d619a94f97c45                     5                       0   \n",
       "4  d9e41465789c2b5                    15                       0   \n",
       "\n",
       "   patient_addmited_to_regular_ward_1_yes_0_no  \\\n",
       "0                                            0   \n",
       "1                                            0   \n",
       "2                                            0   \n",
       "3                                            0   \n",
       "4                                            0   \n",
       "\n",
       "   patient_addmited_to_semi_intensive_unit_1_yes_0_no  \\\n",
       "0                                                  0    \n",
       "1                                                  0    \n",
       "2                                                  0    \n",
       "3                                                  0    \n",
       "4                                                  0    \n",
       "\n",
       "   patient_addmited_to_intensive_care_unit_1_yes_0_no  hematocrit  hemoglobin  \\\n",
       "0                                                  0          NaN         NaN   \n",
       "1                                                  0     0.236515    -0.02234   \n",
       "2                                                  0          NaN         NaN   \n",
       "3                                                  0          NaN         NaN   \n",
       "4                                                  0          NaN         NaN   \n",
       "\n",
       "   platelets  mean_platelet_volume  ...  hb_saturation_arterial_blood_gases  \\\n",
       "0        NaN                   NaN  ...                                 NaN   \n",
       "1  -0.517413              0.010677  ...                                 NaN   \n",
       "2        NaN                   NaN  ...                                 NaN   \n",
       "3        NaN                   NaN  ...                                 NaN   \n",
       "4        NaN                   NaN  ...                                 NaN   \n",
       "\n",
       "   p_co2_arterial_blood_gas_analysis  base_excess_arterial_blood_gas_analysis  \\\n",
       "0                                NaN                                      NaN   \n",
       "1                                NaN                                      NaN   \n",
       "2                                NaN                                      NaN   \n",
       "3                                NaN                                      NaN   \n",
       "4                                NaN                                      NaN   \n",
       "\n",
       "   p_h_arterial_blood_gas_analysis  total_co2_arterial_blood_gas_analysis  \\\n",
       "0                              NaN                                    NaN   \n",
       "1                              NaN                                    NaN   \n",
       "2                              NaN                                    NaN   \n",
       "3                              NaN                                    NaN   \n",
       "4                              NaN                                    NaN   \n",
       "\n",
       "   hco3_arterial_blood_gas_analysis  p_o2_arterial_blood_gas_analysis  \\\n",
       "0                               NaN                               NaN   \n",
       "1                               NaN                               NaN   \n",
       "2                               NaN                               NaN   \n",
       "3                               NaN                               NaN   \n",
       "4                               NaN                               NaN   \n",
       "\n",
       "   arteiral_fio2  phosphor  ct_o2_arterial_blood_gas_analysis  \n",
       "0            NaN       NaN                                NaN  \n",
       "1            NaN       NaN                                NaN  \n",
       "2            NaN       NaN                                NaN  \n",
       "3            NaN       NaN                                NaN  \n",
       "4            NaN       NaN                                NaN  \n",
       "\n",
       "[5 rows x 111 columns]"
      ]
     },
     "execution_count": 4,
     "metadata": {},
     "output_type": "execute_result"
    }
   ],
   "source": [
    "data.head()"
   ]
  },
  {
   "cell_type": "code",
   "execution_count": 5,
   "metadata": {},
   "outputs": [
    {
     "name": "stdout",
     "output_type": "stream",
     "text": [
      "This percentage of missing value of this dataset: 88.1\n"
     ]
    }
   ],
   "source": [
    "print(\"This percentage of missing value of this dataset: {:.1f}\".format(100*data.isna().to_numpy().sum()/(data.shape[0]*data.shape[1])))"
   ]
  },
  {
   "cell_type": "markdown",
   "metadata": {},
   "source": [
    "# Change string values into numerical value"
   ]
  },
  {
   "cell_type": "code",
   "execution_count": 6,
   "metadata": {},
   "outputs": [
    {
     "name": "stdout",
     "output_type": "stream",
     "text": [
      "['patient_id', 'strepto_a', 'fio2_venous_blood_gas_analysis', 'urine_esterase', 'urine_aspect', 'urine_p_h', 'urine_hemoglobin', 'urine_bile_pigments', 'urine_ketone_bodies', 'urine_nitrite', 'urine_urobilinogen', 'urine_protein', 'urine_leukocytes', 'urine_crystals', 'urine_hyaline_cylinders', 'urine_granular_cylinders', 'urine_yeasts', 'urine_color']\n"
     ]
    }
   ],
   "source": [
    "# Find the columns of which values are string\n",
    "columns_having_string = data.columns[data.dtypes==object].tolist()\n",
    "print(columns_having_string)"
   ]
  },
  {
   "cell_type": "code",
   "execution_count": 7,
   "metadata": {},
   "outputs": [],
   "source": [
    "\"\"\"\n",
    "Return unique values in a list\n",
    "\n",
    "Input: list\n",
    "Output: unique values in the list\n",
    "\"\"\"\n",
    "def unique(list):\n",
    "    x = np.array(list)\n",
    "    print(np.unique(x))"
   ]
  },
  {
   "cell_type": "code",
   "execution_count": 8,
   "metadata": {},
   "outputs": [
    {
     "name": "stdout",
     "output_type": "stream",
     "text": [
      "['001646dfe0e98df' '0026b35811a9267' '00371001b52b72c' ...\n",
      " 'ffd986615147da5' 'fff06e821fee7e7' 'fff6cd69cbbfe83']\n",
      "patient_id\n",
      "['0' '1' 'not_done']\n",
      "strepto_a\n",
      "[]\n",
      "fio2_venous_blood_gas_analysis\n",
      "['absent' 'not_done']\n",
      "urine_esterase\n",
      "['altered_coloring' 'clear' 'cloudy' 'lightly_cloudy']\n",
      "urine_aspect\n",
      "['5' '5.0' '5.5' '6' '6.0' '6.5' '7' '7.0' '7.5' '8.0' 'Não Realizado']\n",
      "urine_p_h\n",
      "['absent' 'not_done' 'present']\n",
      "urine_hemoglobin\n",
      "['absent' 'not_done']\n",
      "urine_bile_pigments\n",
      "['absent' 'not_done']\n",
      "urine_ketone_bodies\n",
      "['not_done']\n",
      "urine_nitrite\n",
      "['normal' 'not_done']\n",
      "urine_urobilinogen\n",
      "['absent' 'not_done']\n",
      "urine_protein\n",
      "['1000' '10000' '10600' '124000' '16000' '19000' '2000' '22000' '229000'\n",
      " '23000' '2500' '2600' '28000' '29000' '3000' '32000' '3310000' '38000'\n",
      " '4000' '40000' '43000' '4600' '5000' '5300' '5942000' '6000' '624000'\n",
      " '7000' '77000' '8000' '<1000']\n",
      "urine_leukocytes\n",
      "['Ausentes' 'Oxalato de Cálcio +++' 'Oxalato de Cálcio -++'\n",
      " 'Urato Amorfo +++' 'Urato Amorfo --+']\n",
      "urine_crystals\n",
      "['absent']\n",
      "urine_hyaline_cylinders\n",
      "['absent']\n",
      "urine_granular_cylinders\n",
      "['absent']\n",
      "urine_yeasts\n",
      "['citrus_yellow' 'light_yellow' 'orange' 'yellow']\n",
      "urine_color\n"
     ]
    }
   ],
   "source": [
    "# Find the columns having string values.\n",
    "for column in columns_having_string:\n",
    "    values = data[column].tolist()\n",
    "    unq_vaule = unique([x for x in values if type(x) == str])\n",
    "    \n",
    "    print(column)"
   ]
  },
  {
   "cell_type": "code",
   "execution_count": 9,
   "metadata": {},
   "outputs": [],
   "source": [
    "# Convert categorical to numerical\n",
    "convert = {'positive': 1, \n",
    "        'negative': 0,\n",
    "        'detected': 1, \n",
    "        'not_detected': 0,\n",
    "        'not_done': np.NaN,\n",
    "        'Não Realizado': np.NaN,\n",
    "        'absent': 0, \n",
    "        'present': 1,\n",
    "        'detected': 1, \n",
    "        'not_detected': 0,\n",
    "        'normal': 1,\n",
    "        'clear': 1, \n",
    "        'lightly_cloudy': 2, \n",
    "        'cloudy': 3, \n",
    "        'altered_coloring': 4,\n",
    "        '<1000': 1000,\n",
    "        'Ausentes': 0, \n",
    "        'Urato Amorfo --+': 1, \n",
    "        'Oxalato de Cálcio +++': 1,\n",
    "        'Oxalato de Cálcio -++': 1, \n",
    "        'Urato Amorfo +++': 1,\n",
    "        'light_yellow': 1, \n",
    "        'yellow': 2, \n",
    "        'citrus_yellow': 3, \n",
    "        'orange': 4\n",
    "       }\n",
    "\n",
    "data = data.replace(convert)"
   ]
  },
  {
   "cell_type": "code",
   "execution_count": 10,
   "metadata": {},
   "outputs": [],
   "source": [
    "# Change datatype string to float\n",
    "data['strepto_a'] = data['strepto_a'].astype('float')\n",
    "data['urine_p_h'] = data['urine_p_h'].astype('float')\n",
    "data['urine_leukocytes'] = data['urine_leukocytes'].astype('float')"
   ]
  },
  {
   "cell_type": "markdown",
   "metadata": {},
   "source": [
    "# Remove unnecessary columns\n",
    "\n",
    "If there is a column not performed to all positivie patients, they do not give any information when we predict COVID 19 status. Therefore, we are going to remove these columns."
   ]
  },
  {
   "cell_type": "code",
   "execution_count": 11,
   "metadata": {},
   "outputs": [],
   "source": [
    "test_column = data.columns.to_list()[6:-1]\n",
    "covid_patient_all_null_test = data[data['sars_cov_2_exam_result']==1][test_column].apply(lambda col: col.isnull().all(), axis=0)\n",
    "all_null_columns_covid = covid_patient_all_null_test[covid_patient_all_null_test==True]"
   ]
  },
  {
   "cell_type": "code",
   "execution_count": 12,
   "metadata": {},
   "outputs": [
    {
     "name": "stdout",
     "output_type": "stream",
     "text": [
      "Unnecessary test not performed on covid patients:\n",
      "['mycoplasma_pneumoniae', 'fio2_venous_blood_gas_analysis', 'urine_nitrite', 'urine_sugar', 'partial_thromboplastin_time_ptt', 'prothrombin_time_pt_activity', 'vitamin_b12', 'd_dimer', 'albumin']\n"
     ]
    }
   ],
   "source": [
    "unnecessary_column = all_null_columns_covid.index.tolist()\n",
    "print(\"Unnecessary test not performed on covid patients:\")\n",
    "print(unnecessary_column)"
   ]
  },
  {
   "cell_type": "code",
   "execution_count": 13,
   "metadata": {},
   "outputs": [],
   "source": [
    "data = data.drop(columns=unnecessary_column)"
   ]
  },
  {
   "cell_type": "code",
   "execution_count": 14,
   "metadata": {},
   "outputs": [
    {
     "data": {
      "text/html": [
       "<div>\n",
       "<style scoped>\n",
       "    .dataframe tbody tr th:only-of-type {\n",
       "        vertical-align: middle;\n",
       "    }\n",
       "\n",
       "    .dataframe tbody tr th {\n",
       "        vertical-align: top;\n",
       "    }\n",
       "\n",
       "    .dataframe thead th {\n",
       "        text-align: right;\n",
       "    }\n",
       "</style>\n",
       "<table border=\"1\" class=\"dataframe\">\n",
       "  <thead>\n",
       "    <tr style=\"text-align: right;\">\n",
       "      <th></th>\n",
       "      <th>patient_id</th>\n",
       "      <th>patient_age_quantile</th>\n",
       "      <th>sars_cov_2_exam_result</th>\n",
       "      <th>patient_addmited_to_regular_ward_1_yes_0_no</th>\n",
       "      <th>patient_addmited_to_semi_intensive_unit_1_yes_0_no</th>\n",
       "      <th>patient_addmited_to_intensive_care_unit_1_yes_0_no</th>\n",
       "      <th>hematocrit</th>\n",
       "      <th>hemoglobin</th>\n",
       "      <th>platelets</th>\n",
       "      <th>mean_platelet_volume</th>\n",
       "      <th>...</th>\n",
       "      <th>hb_saturation_arterial_blood_gases</th>\n",
       "      <th>p_co2_arterial_blood_gas_analysis</th>\n",
       "      <th>base_excess_arterial_blood_gas_analysis</th>\n",
       "      <th>p_h_arterial_blood_gas_analysis</th>\n",
       "      <th>total_co2_arterial_blood_gas_analysis</th>\n",
       "      <th>hco3_arterial_blood_gas_analysis</th>\n",
       "      <th>p_o2_arterial_blood_gas_analysis</th>\n",
       "      <th>arteiral_fio2</th>\n",
       "      <th>phosphor</th>\n",
       "      <th>ct_o2_arterial_blood_gas_analysis</th>\n",
       "    </tr>\n",
       "  </thead>\n",
       "  <tbody>\n",
       "    <tr>\n",
       "      <th>0</th>\n",
       "      <td>44477f75e8169d2</td>\n",
       "      <td>13</td>\n",
       "      <td>0</td>\n",
       "      <td>0</td>\n",
       "      <td>0</td>\n",
       "      <td>0</td>\n",
       "      <td>NaN</td>\n",
       "      <td>NaN</td>\n",
       "      <td>NaN</td>\n",
       "      <td>NaN</td>\n",
       "      <td>...</td>\n",
       "      <td>NaN</td>\n",
       "      <td>NaN</td>\n",
       "      <td>NaN</td>\n",
       "      <td>NaN</td>\n",
       "      <td>NaN</td>\n",
       "      <td>NaN</td>\n",
       "      <td>NaN</td>\n",
       "      <td>NaN</td>\n",
       "      <td>NaN</td>\n",
       "      <td>NaN</td>\n",
       "    </tr>\n",
       "    <tr>\n",
       "      <th>1</th>\n",
       "      <td>126e9dd13932f68</td>\n",
       "      <td>17</td>\n",
       "      <td>0</td>\n",
       "      <td>0</td>\n",
       "      <td>0</td>\n",
       "      <td>0</td>\n",
       "      <td>0.236515</td>\n",
       "      <td>-0.02234</td>\n",
       "      <td>-0.517413</td>\n",
       "      <td>0.010677</td>\n",
       "      <td>...</td>\n",
       "      <td>NaN</td>\n",
       "      <td>NaN</td>\n",
       "      <td>NaN</td>\n",
       "      <td>NaN</td>\n",
       "      <td>NaN</td>\n",
       "      <td>NaN</td>\n",
       "      <td>NaN</td>\n",
       "      <td>NaN</td>\n",
       "      <td>NaN</td>\n",
       "      <td>NaN</td>\n",
       "    </tr>\n",
       "    <tr>\n",
       "      <th>2</th>\n",
       "      <td>a46b4402a0e5696</td>\n",
       "      <td>8</td>\n",
       "      <td>0</td>\n",
       "      <td>0</td>\n",
       "      <td>0</td>\n",
       "      <td>0</td>\n",
       "      <td>NaN</td>\n",
       "      <td>NaN</td>\n",
       "      <td>NaN</td>\n",
       "      <td>NaN</td>\n",
       "      <td>...</td>\n",
       "      <td>NaN</td>\n",
       "      <td>NaN</td>\n",
       "      <td>NaN</td>\n",
       "      <td>NaN</td>\n",
       "      <td>NaN</td>\n",
       "      <td>NaN</td>\n",
       "      <td>NaN</td>\n",
       "      <td>NaN</td>\n",
       "      <td>NaN</td>\n",
       "      <td>NaN</td>\n",
       "    </tr>\n",
       "    <tr>\n",
       "      <th>3</th>\n",
       "      <td>f7d619a94f97c45</td>\n",
       "      <td>5</td>\n",
       "      <td>0</td>\n",
       "      <td>0</td>\n",
       "      <td>0</td>\n",
       "      <td>0</td>\n",
       "      <td>NaN</td>\n",
       "      <td>NaN</td>\n",
       "      <td>NaN</td>\n",
       "      <td>NaN</td>\n",
       "      <td>...</td>\n",
       "      <td>NaN</td>\n",
       "      <td>NaN</td>\n",
       "      <td>NaN</td>\n",
       "      <td>NaN</td>\n",
       "      <td>NaN</td>\n",
       "      <td>NaN</td>\n",
       "      <td>NaN</td>\n",
       "      <td>NaN</td>\n",
       "      <td>NaN</td>\n",
       "      <td>NaN</td>\n",
       "    </tr>\n",
       "    <tr>\n",
       "      <th>4</th>\n",
       "      <td>d9e41465789c2b5</td>\n",
       "      <td>15</td>\n",
       "      <td>0</td>\n",
       "      <td>0</td>\n",
       "      <td>0</td>\n",
       "      <td>0</td>\n",
       "      <td>NaN</td>\n",
       "      <td>NaN</td>\n",
       "      <td>NaN</td>\n",
       "      <td>NaN</td>\n",
       "      <td>...</td>\n",
       "      <td>NaN</td>\n",
       "      <td>NaN</td>\n",
       "      <td>NaN</td>\n",
       "      <td>NaN</td>\n",
       "      <td>NaN</td>\n",
       "      <td>NaN</td>\n",
       "      <td>NaN</td>\n",
       "      <td>NaN</td>\n",
       "      <td>NaN</td>\n",
       "      <td>NaN</td>\n",
       "    </tr>\n",
       "  </tbody>\n",
       "</table>\n",
       "<p>5 rows × 102 columns</p>\n",
       "</div>"
      ],
      "text/plain": [
       "        patient_id  patient_age_quantile  sars_cov_2_exam_result  \\\n",
       "0  44477f75e8169d2                    13                       0   \n",
       "1  126e9dd13932f68                    17                       0   \n",
       "2  a46b4402a0e5696                     8                       0   \n",
       "3  f7d619a94f97c45                     5                       0   \n",
       "4  d9e41465789c2b5                    15                       0   \n",
       "\n",
       "   patient_addmited_to_regular_ward_1_yes_0_no  \\\n",
       "0                                            0   \n",
       "1                                            0   \n",
       "2                                            0   \n",
       "3                                            0   \n",
       "4                                            0   \n",
       "\n",
       "   patient_addmited_to_semi_intensive_unit_1_yes_0_no  \\\n",
       "0                                                  0    \n",
       "1                                                  0    \n",
       "2                                                  0    \n",
       "3                                                  0    \n",
       "4                                                  0    \n",
       "\n",
       "   patient_addmited_to_intensive_care_unit_1_yes_0_no  hematocrit  hemoglobin  \\\n",
       "0                                                  0          NaN         NaN   \n",
       "1                                                  0     0.236515    -0.02234   \n",
       "2                                                  0          NaN         NaN   \n",
       "3                                                  0          NaN         NaN   \n",
       "4                                                  0          NaN         NaN   \n",
       "\n",
       "   platelets  mean_platelet_volume  ...  hb_saturation_arterial_blood_gases  \\\n",
       "0        NaN                   NaN  ...                                 NaN   \n",
       "1  -0.517413              0.010677  ...                                 NaN   \n",
       "2        NaN                   NaN  ...                                 NaN   \n",
       "3        NaN                   NaN  ...                                 NaN   \n",
       "4        NaN                   NaN  ...                                 NaN   \n",
       "\n",
       "   p_co2_arterial_blood_gas_analysis  base_excess_arterial_blood_gas_analysis  \\\n",
       "0                                NaN                                      NaN   \n",
       "1                                NaN                                      NaN   \n",
       "2                                NaN                                      NaN   \n",
       "3                                NaN                                      NaN   \n",
       "4                                NaN                                      NaN   \n",
       "\n",
       "   p_h_arterial_blood_gas_analysis  total_co2_arterial_blood_gas_analysis  \\\n",
       "0                              NaN                                    NaN   \n",
       "1                              NaN                                    NaN   \n",
       "2                              NaN                                    NaN   \n",
       "3                              NaN                                    NaN   \n",
       "4                              NaN                                    NaN   \n",
       "\n",
       "   hco3_arterial_blood_gas_analysis  p_o2_arterial_blood_gas_analysis  \\\n",
       "0                               NaN                               NaN   \n",
       "1                               NaN                               NaN   \n",
       "2                               NaN                               NaN   \n",
       "3                               NaN                               NaN   \n",
       "4                               NaN                               NaN   \n",
       "\n",
       "   arteiral_fio2  phosphor  ct_o2_arterial_blood_gas_analysis  \n",
       "0            NaN       NaN                                NaN  \n",
       "1            NaN       NaN                                NaN  \n",
       "2            NaN       NaN                                NaN  \n",
       "3            NaN       NaN                                NaN  \n",
       "4            NaN       NaN                                NaN  \n",
       "\n",
       "[5 rows x 102 columns]"
      ]
     },
     "execution_count": 14,
     "metadata": {},
     "output_type": "execute_result"
    }
   ],
   "source": [
    "data.head()"
   ]
  },
  {
   "cell_type": "markdown",
   "metadata": {},
   "source": [
    "9 columns are dropped."
   ]
  },
  {
   "cell_type": "markdown",
   "metadata": {},
   "source": [
    "# Check Variance\n",
    "\n",
    "If the variance is 0, all values are same in a column, which meams it is unnecessary column."
   ]
  },
  {
   "cell_type": "code",
   "execution_count": 15,
   "metadata": {},
   "outputs": [
    {
     "data": {
      "text/plain": [
       "patient_age_quantile                 33.384166\n",
       "sars_cov_2_exam_result                0.089107\n",
       "hematocrit                            1.001661\n",
       "hemoglobin                            1.001661\n",
       "platelets                             1.001664\n",
       "                                       ...    \n",
       "hco3_arterial_blood_gas_analysis      1.038462\n",
       "p_o2_arterial_blood_gas_analysis      1.038462\n",
       "arteiral_fio2                         1.052632\n",
       "phosphor                              1.052632\n",
       "ct_o2_arterial_blood_gas_analysis     1.038462\n",
       "Length: 98, dtype: float64"
      ]
     },
     "execution_count": 15,
     "metadata": {},
     "output_type": "execute_result"
    }
   ],
   "source": [
    "features = [col for col in data.columns if col not in ['patient_id', \n",
    "                                                    'sars_cov_2_exam_result\t',\n",
    "                                                    'patient_addmited_to_regular_ward_1_yes_0_no',\n",
    "                                                    'patient_addmited_to_semi_intensive_unit_1_yes_0_no',\n",
    "                                                    'patient_addmited_to_intensive_care_unit_1_yes_0_no']]\n",
    "data[features].var()"
   ]
  },
  {
   "cell_type": "code",
   "execution_count": 16,
   "metadata": {},
   "outputs": [],
   "source": [
    "data.drop('parainfluenza_2', axis=1, inplace=True)\n",
    "features.remove('parainfluenza_2')"
   ]
  },
  {
   "cell_type": "code",
   "execution_count": 17,
   "metadata": {},
   "outputs": [
    {
     "data": {
      "text/html": [
       "<div>\n",
       "<style scoped>\n",
       "    .dataframe tbody tr th:only-of-type {\n",
       "        vertical-align: middle;\n",
       "    }\n",
       "\n",
       "    .dataframe tbody tr th {\n",
       "        vertical-align: top;\n",
       "    }\n",
       "\n",
       "    .dataframe thead th {\n",
       "        text-align: right;\n",
       "    }\n",
       "</style>\n",
       "<table border=\"1\" class=\"dataframe\">\n",
       "  <thead>\n",
       "    <tr style=\"text-align: right;\">\n",
       "      <th></th>\n",
       "      <th>patient_id</th>\n",
       "      <th>patient_age_quantile</th>\n",
       "      <th>sars_cov_2_exam_result</th>\n",
       "      <th>patient_addmited_to_regular_ward_1_yes_0_no</th>\n",
       "      <th>patient_addmited_to_semi_intensive_unit_1_yes_0_no</th>\n",
       "      <th>patient_addmited_to_intensive_care_unit_1_yes_0_no</th>\n",
       "      <th>hematocrit</th>\n",
       "      <th>hemoglobin</th>\n",
       "      <th>platelets</th>\n",
       "      <th>mean_platelet_volume</th>\n",
       "      <th>...</th>\n",
       "      <th>hb_saturation_arterial_blood_gases</th>\n",
       "      <th>p_co2_arterial_blood_gas_analysis</th>\n",
       "      <th>base_excess_arterial_blood_gas_analysis</th>\n",
       "      <th>p_h_arterial_blood_gas_analysis</th>\n",
       "      <th>total_co2_arterial_blood_gas_analysis</th>\n",
       "      <th>hco3_arterial_blood_gas_analysis</th>\n",
       "      <th>p_o2_arterial_blood_gas_analysis</th>\n",
       "      <th>arteiral_fio2</th>\n",
       "      <th>phosphor</th>\n",
       "      <th>ct_o2_arterial_blood_gas_analysis</th>\n",
       "    </tr>\n",
       "  </thead>\n",
       "  <tbody>\n",
       "    <tr>\n",
       "      <th>0</th>\n",
       "      <td>44477f75e8169d2</td>\n",
       "      <td>13</td>\n",
       "      <td>0</td>\n",
       "      <td>0</td>\n",
       "      <td>0</td>\n",
       "      <td>0</td>\n",
       "      <td>NaN</td>\n",
       "      <td>NaN</td>\n",
       "      <td>NaN</td>\n",
       "      <td>NaN</td>\n",
       "      <td>...</td>\n",
       "      <td>NaN</td>\n",
       "      <td>NaN</td>\n",
       "      <td>NaN</td>\n",
       "      <td>NaN</td>\n",
       "      <td>NaN</td>\n",
       "      <td>NaN</td>\n",
       "      <td>NaN</td>\n",
       "      <td>NaN</td>\n",
       "      <td>NaN</td>\n",
       "      <td>NaN</td>\n",
       "    </tr>\n",
       "    <tr>\n",
       "      <th>1</th>\n",
       "      <td>126e9dd13932f68</td>\n",
       "      <td>17</td>\n",
       "      <td>0</td>\n",
       "      <td>0</td>\n",
       "      <td>0</td>\n",
       "      <td>0</td>\n",
       "      <td>0.236515</td>\n",
       "      <td>-0.02234</td>\n",
       "      <td>-0.517413</td>\n",
       "      <td>0.010677</td>\n",
       "      <td>...</td>\n",
       "      <td>NaN</td>\n",
       "      <td>NaN</td>\n",
       "      <td>NaN</td>\n",
       "      <td>NaN</td>\n",
       "      <td>NaN</td>\n",
       "      <td>NaN</td>\n",
       "      <td>NaN</td>\n",
       "      <td>NaN</td>\n",
       "      <td>NaN</td>\n",
       "      <td>NaN</td>\n",
       "    </tr>\n",
       "    <tr>\n",
       "      <th>2</th>\n",
       "      <td>a46b4402a0e5696</td>\n",
       "      <td>8</td>\n",
       "      <td>0</td>\n",
       "      <td>0</td>\n",
       "      <td>0</td>\n",
       "      <td>0</td>\n",
       "      <td>NaN</td>\n",
       "      <td>NaN</td>\n",
       "      <td>NaN</td>\n",
       "      <td>NaN</td>\n",
       "      <td>...</td>\n",
       "      <td>NaN</td>\n",
       "      <td>NaN</td>\n",
       "      <td>NaN</td>\n",
       "      <td>NaN</td>\n",
       "      <td>NaN</td>\n",
       "      <td>NaN</td>\n",
       "      <td>NaN</td>\n",
       "      <td>NaN</td>\n",
       "      <td>NaN</td>\n",
       "      <td>NaN</td>\n",
       "    </tr>\n",
       "    <tr>\n",
       "      <th>3</th>\n",
       "      <td>f7d619a94f97c45</td>\n",
       "      <td>5</td>\n",
       "      <td>0</td>\n",
       "      <td>0</td>\n",
       "      <td>0</td>\n",
       "      <td>0</td>\n",
       "      <td>NaN</td>\n",
       "      <td>NaN</td>\n",
       "      <td>NaN</td>\n",
       "      <td>NaN</td>\n",
       "      <td>...</td>\n",
       "      <td>NaN</td>\n",
       "      <td>NaN</td>\n",
       "      <td>NaN</td>\n",
       "      <td>NaN</td>\n",
       "      <td>NaN</td>\n",
       "      <td>NaN</td>\n",
       "      <td>NaN</td>\n",
       "      <td>NaN</td>\n",
       "      <td>NaN</td>\n",
       "      <td>NaN</td>\n",
       "    </tr>\n",
       "    <tr>\n",
       "      <th>4</th>\n",
       "      <td>d9e41465789c2b5</td>\n",
       "      <td>15</td>\n",
       "      <td>0</td>\n",
       "      <td>0</td>\n",
       "      <td>0</td>\n",
       "      <td>0</td>\n",
       "      <td>NaN</td>\n",
       "      <td>NaN</td>\n",
       "      <td>NaN</td>\n",
       "      <td>NaN</td>\n",
       "      <td>...</td>\n",
       "      <td>NaN</td>\n",
       "      <td>NaN</td>\n",
       "      <td>NaN</td>\n",
       "      <td>NaN</td>\n",
       "      <td>NaN</td>\n",
       "      <td>NaN</td>\n",
       "      <td>NaN</td>\n",
       "      <td>NaN</td>\n",
       "      <td>NaN</td>\n",
       "      <td>NaN</td>\n",
       "    </tr>\n",
       "  </tbody>\n",
       "</table>\n",
       "<p>5 rows × 101 columns</p>\n",
       "</div>"
      ],
      "text/plain": [
       "        patient_id  patient_age_quantile  sars_cov_2_exam_result  \\\n",
       "0  44477f75e8169d2                    13                       0   \n",
       "1  126e9dd13932f68                    17                       0   \n",
       "2  a46b4402a0e5696                     8                       0   \n",
       "3  f7d619a94f97c45                     5                       0   \n",
       "4  d9e41465789c2b5                    15                       0   \n",
       "\n",
       "   patient_addmited_to_regular_ward_1_yes_0_no  \\\n",
       "0                                            0   \n",
       "1                                            0   \n",
       "2                                            0   \n",
       "3                                            0   \n",
       "4                                            0   \n",
       "\n",
       "   patient_addmited_to_semi_intensive_unit_1_yes_0_no  \\\n",
       "0                                                  0    \n",
       "1                                                  0    \n",
       "2                                                  0    \n",
       "3                                                  0    \n",
       "4                                                  0    \n",
       "\n",
       "   patient_addmited_to_intensive_care_unit_1_yes_0_no  hematocrit  hemoglobin  \\\n",
       "0                                                  0          NaN         NaN   \n",
       "1                                                  0     0.236515    -0.02234   \n",
       "2                                                  0          NaN         NaN   \n",
       "3                                                  0          NaN         NaN   \n",
       "4                                                  0          NaN         NaN   \n",
       "\n",
       "   platelets  mean_platelet_volume  ...  hb_saturation_arterial_blood_gases  \\\n",
       "0        NaN                   NaN  ...                                 NaN   \n",
       "1  -0.517413              0.010677  ...                                 NaN   \n",
       "2        NaN                   NaN  ...                                 NaN   \n",
       "3        NaN                   NaN  ...                                 NaN   \n",
       "4        NaN                   NaN  ...                                 NaN   \n",
       "\n",
       "   p_co2_arterial_blood_gas_analysis  base_excess_arterial_blood_gas_analysis  \\\n",
       "0                                NaN                                      NaN   \n",
       "1                                NaN                                      NaN   \n",
       "2                                NaN                                      NaN   \n",
       "3                                NaN                                      NaN   \n",
       "4                                NaN                                      NaN   \n",
       "\n",
       "   p_h_arterial_blood_gas_analysis  total_co2_arterial_blood_gas_analysis  \\\n",
       "0                              NaN                                    NaN   \n",
       "1                              NaN                                    NaN   \n",
       "2                              NaN                                    NaN   \n",
       "3                              NaN                                    NaN   \n",
       "4                              NaN                                    NaN   \n",
       "\n",
       "   hco3_arterial_blood_gas_analysis  p_o2_arterial_blood_gas_analysis  \\\n",
       "0                               NaN                               NaN   \n",
       "1                               NaN                               NaN   \n",
       "2                               NaN                               NaN   \n",
       "3                               NaN                               NaN   \n",
       "4                               NaN                               NaN   \n",
       "\n",
       "   arteiral_fio2  phosphor  ct_o2_arterial_blood_gas_analysis  \n",
       "0            NaN       NaN                                NaN  \n",
       "1            NaN       NaN                                NaN  \n",
       "2            NaN       NaN                                NaN  \n",
       "3            NaN       NaN                                NaN  \n",
       "4            NaN       NaN                                NaN  \n",
       "\n",
       "[5 rows x 101 columns]"
      ]
     },
     "execution_count": 17,
     "metadata": {},
     "output_type": "execute_result"
    }
   ],
   "source": [
    "data.head()"
   ]
  },
  {
   "cell_type": "markdown",
   "metadata": {},
   "source": [
    "1 columns is dropped. Now 101 columns are left."
   ]
  },
  {
   "cell_type": "markdown",
   "metadata": {},
   "source": [
    "# Null values\n"
   ]
  },
  {
   "cell_type": "code",
   "execution_count": 29,
   "metadata": {},
   "outputs": [],
   "source": [
    "# Calculate each column's percetage of null value \n",
    "data_null_pct = data[features].isna().mean().round(3) * 100\n",
    "\n",
    "# Filter columns of which the percentage of null value is above 50%=\n",
    "nulls = data_null_pct[data_null_pct > 50]\n",
    "column_name_null_more_than_50 = nulls.index.tolist()"
   ]
  },
  {
   "cell_type": "code",
   "execution_count": 30,
   "metadata": {},
   "outputs": [
    {
     "data": {
      "text/plain": [
       "95"
      ]
     },
     "execution_count": 30,
     "metadata": {},
     "output_type": "execute_result"
    }
   ],
   "source": [
    "len(column_name_null_more_than_50)"
   ]
  },
  {
   "cell_type": "markdown",
   "metadata": {},
   "source": [
    "95 columns have more than 50% null values."
   ]
  },
  {
   "cell_type": "markdown",
   "metadata": {},
   "source": [
    "### (1) Comparing each column's distribution of positive patients and negative patients.\n",
    "\n",
    "If a specific column value's distribution of positive patients is similar to that of negative patients, the column is useless, since it does not give any information."
   ]
  },
  {
   "cell_type": "code",
   "execution_count": 31,
   "metadata": {},
   "outputs": [],
   "source": [
    "positive_patients = data[data[\"sars_cov_2_exam_result\"] == 1]\n",
    "negative_patients = data[data[\"sars_cov_2_exam_result\"] == 0]"
   ]
  },
  {
   "cell_type": "markdown",
   "metadata": {},
   "source": [
    "For example, compare neutrophils's distriution of positive patients and negative patients."
   ]
  },
  {
   "cell_type": "code",
   "execution_count": 64,
   "metadata": {},
   "outputs": [
    {
     "data": {
      "text/plain": [
       "<matplotlib.axes._subplots.AxesSubplot at 0x7fca59591160>"
      ]
     },
     "execution_count": 64,
     "metadata": {},
     "output_type": "execute_result"
    },
    {
     "data": {
      "image/png": "[encoded data removed]",
      "text/plain": [
       "<Figure size 432x288 with 1 Axes>"
      ]
     },
     "metadata": {
      "needs_background": "light"
     },
     "output_type": "display_data"
    }
   ],
   "source": [
    "# Positive patients' neutrophils histogram.\n",
    "(positive_patients[positive_patients.platelets.notnull()][\"platelets\"]).hist(range = [-1,4])"
   ]
  },
  {
   "cell_type": "code",
   "execution_count": 65,
   "metadata": {},
   "outputs": [
    {
     "data": {
      "text/plain": [
       "<matplotlib.axes._subplots.AxesSubplot at 0x7fca5966b520>"
      ]
     },
     "execution_count": 65,
     "metadata": {},
     "output_type": "execute_result"
    },
    {
     "data": {
      "image/png": "[encoded data removed]",
      "text/plain": [
       "<Figure size 432x288 with 1 Axes>"
      ]
     },
     "metadata": {
      "needs_background": "light"
     },
     "output_type": "display_data"
    }
   ],
   "source": [
    "# negative patients' neutrophils histogram.\n",
    "(negative_patients[negative_patients.platelets.notnull()][\"platelets\"]).hist(range = [-1,4])"
   ]
  },
  {
   "cell_type": "markdown",
   "metadata": {},
   "source": [
    "By comparing the histogram above, we can tell their distributions are similar. Let's see their standard deviation."
   ]
  },
  {
   "cell_type": "code",
   "execution_count": 67,
   "metadata": {},
   "outputs": [
    {
     "name": "stdout",
     "output_type": "stream",
     "text": [
      "0.6477261694999746\n"
     ]
    }
   ],
   "source": [
    "# Standard deviation of positive patients' neutrohils \n",
    "positive_neutrohils_std = (positive_patients[positive_patients.platelets.notnull()][\"platelets\"]).std()\n",
    "print(positive_neutrohils_std)"
   ]
  },
  {
   "cell_type": "code",
   "execution_count": 68,
   "metadata": {},
   "outputs": [
    {
     "name": "stdout",
     "output_type": "stream",
     "text": [
      "1.0015744905823023\n"
     ]
    }
   ],
   "source": [
    "# Standard deviation of negative patients' neutrohils \n",
    "negative_neutrohils_std = (negative_patients[negative_patients.platelets.notnull()][\"platelets\"]).std()\n",
    "print(negative_neutrohils_std)"
   ]
  },
  {
   "cell_type": "code",
   "execution_count": 69,
   "metadata": {},
   "outputs": [
    {
     "data": {
      "text/plain": [
       "0.35384832108232767"
      ]
     },
     "execution_count": 69,
     "metadata": {},
     "output_type": "execute_result"
    }
   ],
   "source": [
    "abs(positive_neutrohils_std - negative_neutrohils_std)"
   ]
  },
  {
   "cell_type": "markdown",
   "metadata": {},
   "source": [
    "I am going to make an assumption that if the difference between two standard deviation is less than 0.1, their distribution is similar."
   ]
  },
  {
   "cell_type": "code",
   "execution_count": 37,
   "metadata": {},
   "outputs": [],
   "source": [
    "# Calculate all columns' difference of standard deviation between positive patients and negative patients\n",
    "remove_column = []\n",
    "delta_std = []\n",
    "for column in data[column_name_null_more_than_50]:\n",
    "    \n",
    "    positive_patients_std = positive_patients[column].std(skipna = True)\n",
    "    negative_patients_std = negative_patients[column].std(skipna = True)\n",
    "    \n",
    "    delta = abs(positive_patients_std - negative_patients_std)\n",
    "    \n",
    "    if delta <= 0.1:\n",
    "        remove_column.append(column)\n",
    "        delta_std.append(delta)\n",
    "\n",
    "column_std = dict(zip(remove_column, delta_std))"
   ]
  },
  {
   "cell_type": "code",
   "execution_count": 38,
   "metadata": {},
   "outputs": [
    {
     "data": {
      "text/plain": [
       "[('myeloblasts', 0.0),\n",
       " ('urine_esterase', 0.0),\n",
       " ('urine_bile_pigments', 0.0),\n",
       " ('urine_ketone_bodies', 0.0),\n",
       " ('urine_urobilinogen', 0.0),\n",
       " ('urine_protein', 0.0),\n",
       " ('urine_hyaline_cylinders', 0.0),\n",
       " ('urine_granular_cylinders', 0.0),\n",
       " ('urine_yeasts', 0.0),\n",
       " ('coronavirus229e', 0.014396404863644782),\n",
       " ('coronavirus_nl63', 0.018787718048594776),\n",
       " ('red_blood_cells', 0.039090375400992916),\n",
       " ('bordetella_pertussis', 0.040144756165374766),\n",
       " ('urine_color', 0.04606656431840883),\n",
       " ('parainfluenza_1', 0.049147222749841527),\n",
       " ('red_blood_cell_distribution_width_rdw', 0.05853424214613279),\n",
       " ('influenza_b_rapid_test', 0.06319732920051294),\n",
       " ('alkaline_phosphatase', 0.06440080480832111),\n",
       " ('proteina_c_reativa_mg_d_l', 0.06626406003789409),\n",
       " ('mean_corpuscular_volume_mcv', 0.06668996290692941),\n",
       " ('lactic_dehydrogenase', 0.06700446634050472),\n",
       " ('mean_corpuscular_hemoglobin_mch', 0.07250924289840588),\n",
       " ('influenza_b', 0.07462257950242074),\n",
       " ('lipase_dosage', 0.07902867598507934),\n",
       " ('coronavirus_oc43', 0.08009471338866173),\n",
       " ('chlamydophila_pneumoniae', 0.08491878767318062),\n",
       " ('hb_saturation_venous_blood_gas_analysis', 0.0870808436539856),\n",
       " ('sodium', 0.08855500661708848),\n",
       " ('parainfluenza_3', 0.08947589680313141),\n",
       " ('neutrophils', 0.09699046078956863)]"
      ]
     },
     "execution_count": 38,
     "metadata": {},
     "output_type": "execute_result"
    }
   ],
   "source": [
    "sorted(column_std.items(), key=lambda x: x[1])"
   ]
  },
  {
   "cell_type": "code",
   "execution_count": 39,
   "metadata": {},
   "outputs": [],
   "source": [
    "# Drop the above columns\n",
    "data = data.drop(columns = remove_column)"
   ]
  },
  {
   "cell_type": "code",
   "execution_count": 53,
   "metadata": {},
   "outputs": [
    {
     "data": {
      "text/plain": [
       "Index(['patient_id', 'patient_age_quantile', 'sars_cov_2_exam_result',\n",
       "       'patient_addmited_to_regular_ward_1_yes_0_no',\n",
       "       'patient_addmited_to_semi_intensive_unit_1_yes_0_no',\n",
       "       'patient_addmited_to_intensive_care_unit_1_yes_0_no', 'hematocrit',\n",
       "       'hemoglobin', 'platelets', 'mean_platelet_volume', 'lymphocytes',\n",
       "       'mean_corpuscular_hemoglobin_concentration_mchc', 'leukocytes',\n",
       "       'basophils', 'eosinophils', 'monocytes', 'serum_glucose',\n",
       "       'respiratory_syncytial_virus', 'influenza_a', 'rhinovirus_enterovirus',\n",
       "       'coronavirus_hku1', 'adenovirus', 'parainfluenza_4', 'inf_a_h1n1_2009',\n",
       "       'metapneumovirus', 'urea', 'creatinine', 'potassium',\n",
       "       'influenza_a_rapid_test', 'alanine_transaminase',\n",
       "       'aspartate_transaminase', 'gamma_glutamyltransferase',\n",
       "       'total_bilirubin', 'direct_bilirubin', 'indirect_bilirubin',\n",
       "       'ionized_calcium', 'strepto_a', 'magnesium',\n",
       "       'p_co2_venous_blood_gas_analysis',\n",
       "       'base_excess_venous_blood_gas_analysis',\n",
       "       'p_o2_venous_blood_gas_analysis', 'total_co2_venous_blood_gas_analysis',\n",
       "       'p_h_venous_blood_gas_analysis', 'hco3_venous_blood_gas_analysis',\n",
       "       'rods_number', 'segmented', 'promyelocytes', 'metamyelocytes',\n",
       "       'myelocytes', 'urine_aspect', 'urine_p_h', 'urine_hemoglobin',\n",
       "       'urine_density', 'urine_leukocytes', 'urine_crystals',\n",
       "       'urine_red_blood_cells', 'relationship_patient_normal',\n",
       "       'international_normalized_ratio_inr', 'creatine_phosphokinase_cpk',\n",
       "       'ferritin', 'arterial_lactic_acid',\n",
       "       'hb_saturation_arterial_blood_gases',\n",
       "       'p_co2_arterial_blood_gas_analysis',\n",
       "       'base_excess_arterial_blood_gas_analysis',\n",
       "       'p_h_arterial_blood_gas_analysis',\n",
       "       'total_co2_arterial_blood_gas_analysis',\n",
       "       'hco3_arterial_blood_gas_analysis', 'p_o2_arterial_blood_gas_analysis',\n",
       "       'arteiral_fio2', 'phosphor', 'ct_o2_arterial_blood_gas_analysis'],\n",
       "      dtype='object')"
      ]
     },
     "execution_count": 53,
     "metadata": {},
     "output_type": "execute_result"
    }
   ],
   "source": [
    "data.columns"
   ]
  },
  {
   "cell_type": "markdown",
   "metadata": {},
   "source": [
    "### (2) Remove columns of which more than 90% of positive patients does not have value.\n",
    "\n",
    "Making a decision using less than 10% of data is fallacy of generalization. Normally I set this number as 50%, but this data set already missed too many data, so I set 10%."
   ]
  },
  {
   "cell_type": "code",
   "execution_count": 128,
   "metadata": {},
   "outputs": [],
   "source": [
    "# Get dataset only having positive patients rows\n",
    "positive_patients = data[data[\"sars_cov_2_exam_result\"] == 1]"
   ]
  },
  {
   "cell_type": "code",
   "execution_count": 129,
   "metadata": {},
   "outputs": [],
   "source": [
    "# Calculate the percentage of null values for each column\n",
    "positive_null_pct = positive_patients.isna().mean().round(3) * 100\n",
    "\n",
    "# Filter the columns of which the percentage of null value is more than 90%\n",
    "nulls = positive_null_pct[positive_null_pct > 90]\n",
    "column_name_null_more_than_90 = nulls.index.tolist()"
   ]
  },
  {
   "cell_type": "code",
   "execution_count": 130,
   "metadata": {},
   "outputs": [
    {
     "data": {
      "text/plain": [
       "43"
      ]
     },
     "execution_count": 130,
     "metadata": {},
     "output_type": "execute_result"
    }
   ],
   "source": [
    "len(column_name_null_more_than_90)"
   ]
  },
  {
   "cell_type": "markdown",
   "metadata": {},
   "source": [
    "In 57 columns, 90% of positive patients does not have information. Therefore, I am going to delete these 57 columns."
   ]
  },
  {
   "cell_type": "code",
   "execution_count": 131,
   "metadata": {},
   "outputs": [],
   "source": [
    "data = data.drop(columns = column_name_null_more_than_90)"
   ]
  },
  {
   "cell_type": "code",
   "execution_count": 132,
   "metadata": {},
   "outputs": [
    {
     "data": {
      "text/plain": [
       "Index(['patient_id', 'patient_age_quantile', 'sars_cov_2_exam_result',\n",
       "       'patient_addmited_to_regular_ward_1_yes_0_no',\n",
       "       'patient_addmited_to_semi_intensive_unit_1_yes_0_no',\n",
       "       'patient_addmited_to_intensive_care_unit_1_yes_0_no', 'hematocrit',\n",
       "       'hemoglobin', 'platelets', 'mean_platelet_volume', 'lymphocytes',\n",
       "       'mean_corpuscular_hemoglobin_concentration_mchc', 'leukocytes',\n",
       "       'basophils', 'eosinophils', 'monocytes', 'respiratory_syncytial_virus',\n",
       "       'influenza_a', 'rhinovirus_enterovirus', 'coronavirus_hku1',\n",
       "       'adenovirus', 'parainfluenza_4', 'inf_a_h1n1_2009', 'metapneumovirus',\n",
       "       'urea', 'creatinine', 'potassium', 'influenza_a_rapid_test'],\n",
       "      dtype='object')"
      ]
     },
     "execution_count": 132,
     "metadata": {},
     "output_type": "execute_result"
    }
   ],
   "source": [
    "data.columns"
   ]
  },
  {
   "cell_type": "code",
   "execution_count": 133,
   "metadata": {},
   "outputs": [
    {
     "data": {
      "text/plain": [
       "28"
      ]
     },
     "execution_count": 133,
     "metadata": {},
     "output_type": "execute_result"
    }
   ],
   "source": [
    "len(data.columns)"
   ]
  },
  {
   "cell_type": "markdown",
   "metadata": {},
   "source": [
    "Now we have only 28 columns."
   ]
  },
  {
   "cell_type": "markdown",
   "metadata": {},
   "source": [
    "# Convert to csv file"
   ]
  },
  {
   "cell_type": "code",
   "execution_count": 134,
   "metadata": {},
   "outputs": [],
   "source": [
    "data.to_csv(base_prefix + \"10-process-data/after_cleaning_dataset.csv\", index = False)"
   ]
  }
 ],
 "metadata": {
  "kernelspec": {
   "display_name": "Python 3",
   "language": "python",
   "name": "python3"
  },
  "language_info": {
   "codemirror_mode": {
    "name": "ipython",
    "version": 3
   },
   "file_extension": ".py",
   "mimetype": "text/x-python",
   "name": "python",
   "nbconvert_exporter": "python",
   "pygments_lexer": "ipython3",
   "version": "3.8.3"
  }
 },
 "nbformat": 4,
 "nbformat_minor": 4
}
